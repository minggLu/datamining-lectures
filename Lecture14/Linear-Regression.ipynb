{
 "cells": [
  {
   "cell_type": "markdown",
   "metadata": {},
   "source": [
    "# Linear Regression"
   ]
  },
  {
   "cell_type": "code",
   "execution_count": null,
   "metadata": {
    "collapsed": false
   },
   "outputs": [],
   "source": [
    "import time\n",
    "\n",
    "import numpy as np\n",
    "import matplotlib.pyplot as plt\n",
    "import pandas as pd\n",
    "\n",
    "import scipy as sp\n",
    "import scipy.sparse.linalg as linalg\n",
    "import scipy.cluster.hierarchy as hr\n",
    "from scipy.spatial.distance import pdist, squareform\n",
    "\n",
    "import sklearn.datasets as datasets\n",
    "import sklearn.metrics as metrics\n",
    "import sklearn.utils as utils\n",
    "import sklearn.linear_model as linear_model\n",
    "import sklearn.cross_validation as cross_validation\n",
    "import sklearn.cluster as cluster\n",
    "from sklearn.neighbors import KNeighborsClassifier\n",
    "from sklearn.decomposition import TruncatedSVD\n",
    "from sklearn.preprocessing import StandardScaler\n",
    "\n",
    "import statsmodels.api as sm\n",
    "\n",
    "from patsy import dmatrices\n",
    "\n",
    "import seaborn as sns\n",
    "%matplotlib inline"
   ]
  },
  {
   "cell_type": "markdown",
   "metadata": {},
   "source": [
    "### Basics on Linear Regression"
   ]
  },
  {
   "cell_type": "markdown",
   "metadata": {},
   "source": [
    "##### The Linear Regression Model "
   ]
  },
  {
   "cell_type": "markdown",
   "metadata": {
    "slideshow": {
     "slide_type": "slide"
    }
   },
   "source": [
    "$$Y = \\alpha +\\beta X +\\epsilon$$\n",
    "    \n",
    "We **know**: $X$ and $Y$\n",
    "\n",
    "We **do not know **: $\\alpha$, $\\beta$ and $\\epsilon$\n",
    "\n",
    "**Goal:** Given $X$ and $Y$ produce estimates of $\\alpha$ and $\\beta$ denoted by $\\widehat{\\alpha}$ and $\\widehat{\\beta}$ \n"
   ]
  },
  {
   "cell_type": "markdown",
   "metadata": {},
   "source": [
    "##### Input/output"
   ]
  },
  {
   "cell_type": "markdown",
   "metadata": {},
   "source": [
    "Input data comes in the form of pairs $\\left(X_i,Y_i\\right)$  for $i=1,\\ldots ,n$\n",
    "\n",
    "The **true regression line **: For **every** individual it should hold that:\n",
    "$$Y_i = \\alpha +\\beta X_i +\\epsilon_i$$\n",
    "\n",
    "\n",
    "**Error** for the $i$-th data point is: $$ \\epsilon_i = Y_i-\\alpha-\\beta X_i $$\n",
    "\n",
    "\n",
    "The **estimated regression line ** : $$\\widehat{Y_i}=\\widehat{\\alpha}+\\widehat{\\beta}X_i$$\n",
    "\n",
    "\n",
    "**Residuals** measure distance between each observation from the estimated regression line and are defined as follows: $$\\widehat{\\epsilon_i} = Y_i-\\widehat{Y_i}$$"
   ]
  },
  {
   "cell_type": "markdown",
   "metadata": {},
   "source": [
    "##### Ordinary Least Squares Regression as an optimization problem"
   ]
  },
  {
   "cell_type": "markdown",
   "metadata": {},
   "source": [
    "**Question**: How do we find $\\widehat{\\alpha}$ and $\\widehat{\\beta}$?\n",
    "\n",
    "**Answer**: By minimizing the residuals, or *sum of squared residuals* :\n",
    "\n",
    "\\begin{eqnarray}\n",
    "\\text{SSR} & = & \\sum_{i=1}^n \\widehat{\\epsilon_i}^2 \\\\\n",
    "& = & \\sum_{i=1}^n \\left(Y_i-\\widehat{Y_i}\\right)^2\n",
    "\\end{eqnarray}"
   ]
  },
  {
   "cell_type": "markdown",
   "metadata": {},
   "source": [
    "$\\alpha,\\beta$ are called **regression coefficients**\n",
    "\n",
    "$\\widehat{\\alpha},\\widehat{\\beta}$ are called ** OLS (Ordinary Least Squares} regression coefficients**\n",
    "\n",
    "$\\alpha$ (or $\\widehat{\\alpha}$) is not so interesting\n",
    "\n",
    "$\\beta$ (or $\\widehat{\\beta}$) is more interesting as it shows the change in $Y$ that can be caused by a unit of change in $X$"
   ]
  },
  {
   "cell_type": "markdown",
   "metadata": {},
   "source": [
    "##### Measuring the fit of a regression model and $R^2$"
   ]
  },
  {
   "cell_type": "markdown",
   "metadata": {},
   "source": [
    "The most common measure of fit is referred to as $R^2$\n",
    "\n",
    "$R^2$ measures the variability of $Y$ that can be explained by $X$\n",
    "\n",
    "Derivation:\n",
    "    $$\\text{Var}(Y) =\\frac{\\sum_{i=1}^n \\left(Y_i-\\overline{Y}\\right)}{n-1} $$\n",
    "where:\n",
    "$\\overline{Y}=\\frac{1}{n}\\sum_{i=1}^nY_i$\n",
    "\n",
    "Total Sum of Squares (TSS) is:\n",
    "\n",
    "$$\\text{TSS} = \\sum_{i=1}^n\\left(Y_i-\\overline{Y}\\right)^2 $$\n",
    "\n",
    "\n",
    "Now we can show that:\n",
    "\n",
    "$$\\text{TSS} = \\text{SSR} + \\text{RSS},$$\n",
    "\n",
    "where Sum of Squares Residuals (SSR) is:\n",
    "$$\\text{SSR} = \\sum_{i=1}^n \\left(Y_i-\\widehat{Y_i}\\right)^2,$$\n",
    "\n",
    "and Regresion Sum of Squares (RSS) is:\n",
    "\n",
    "$$\\text{RSS} = \\sum_{i=1}^n \\left(\\widehat{Y_i}-\\overline{Y}\\right)^2,$$\n",
    "\n",
    "\n",
    "Variability in $Y$ can be due to explained (RSS) and unexplained parts (SSR).\n",
    "\n",
    "\n",
    "Measure of fit $R^2$:\n",
    "\n",
    "\\begin{eqnarray}\n",
    "R^2 & = & \\frac{\\text{RSS}}{\\text{TSS}} = 1-\\frac{\\text{SSR}}{\\text{TSS}}\n",
    "\\end{eqnarray}\n",
    "\n",
    "\n",
    "$0\\leq R^2\\leq 1$; the closer the value of $R^2$ is to $1$ the better the fit of the regression; small values of SSR imply that the residuals are small and therefore we have a better fit."
   ]
  },
  {
   "cell_type": "markdown",
   "metadata": {},
   "source": [
    "##### How accurate are the estimates $\\widehat{\\alpha}$ and $\\widehat{\\beta}$"
   ]
  },
  {
   "cell_type": "markdown",
   "metadata": {},
   "source": [
    "95% Confidence interval $[x,y]$ for $\\widehat{\\alpha}$: We are 95% certain that $\\alpha$ lies in $[x,y]$"
   ]
  },
  {
   "cell_type": "markdown",
   "metadata": {},
   "source": [
    "##### Example - I"
   ]
  },
  {
   "cell_type": "markdown",
   "metadata": {},
   "source": [
    "Generate a dataset using the **datasets.makeregression( )** function\n",
    "\n",
    "http://scikit-learn.org/stable/modules/generated/sklearn.datasets.make_regression.html#sklearn.datasets.make_regression"
   ]
  },
  {
   "cell_type": "code",
   "execution_count": null,
   "metadata": {
    "collapsed": false
   },
   "outputs": [],
   "source": [
    "X, y = datasets.make_regression(n_samples=100, n_features=1, bias=0.1, noise=30, random_state=1)\n",
    "print X.shape, y.shape"
   ]
  },
  {
   "cell_type": "code",
   "execution_count": null,
   "metadata": {
    "collapsed": false
   },
   "outputs": [],
   "source": [
    "plt.scatter(X, y, c=\"slategray\")"
   ]
  },
  {
   "cell_type": "code",
   "execution_count": null,
   "metadata": {
    "collapsed": false
   },
   "outputs": [],
   "source": [
    "model = sm.OLS(y, X)\n",
    "results = model.fit()\n",
    "print results.summary()\n",
    "print \"Confidence Intervals:\", results.conf_int()\n",
    "print \"Parameters:\", results.params"
   ]
  },
  {
   "cell_type": "markdown",
   "metadata": {},
   "source": [
    "A more detailed explanation of the results can be found here:\n",
    "http://connor-johnson.com/2014/02/18/linear-regression-with-python/"
   ]
  },
  {
   "cell_type": "code",
   "execution_count": null,
   "metadata": {
    "collapsed": false
   },
   "outputs": [],
   "source": [
    "plt.scatter(X,y, c=\"slategray\")\n",
    "plt.plot(X,results.predict(X), c='seagreen', alpha=0.8)"
   ]
  },
  {
   "cell_type": "markdown",
   "metadata": {},
   "source": [
    "##### Multidimensional data"
   ]
  },
  {
   "cell_type": "markdown",
   "metadata": {},
   "source": [
    "** Input **: $(Y,X_1,X_2,\\ldots , X_k)$\n",
    "\n",
    "$Y_i = \\alpha +\\beta_1X_1+\\beta_2X_2+\\ldots  + \\beta_k X_k$\n",
    "\n",
    "**Output **: Estimates $\\widehat{\\alpha},\\widehat{\\beta_i}$ for $i=1\\ldots k$ that minimize\n",
    "\n",
    "$\\text{SSR} = \\sum_{i=1}^n\\left(\\widehat{Y_i} - \\widehat{\\alpha} -\\widehat{\\beta_1}X_1-\\widehat{\\beta_2}X_2-\\ldots - \\widehat{\\beta_k} X_k\\right)^2$\n"
   ]
  },
  {
   "cell_type": "markdown",
   "metadata": {},
   "source": [
    "##### Example - II"
   ]
  },
  {
   "cell_type": "markdown",
   "metadata": {},
   "source": [
    "Use again the **datasets.makeregression( )** function\n",
    "\n",
    "http://scikit-learn.org/stable/modules/generated/sklearn.datasets.make_regression.html#sklearn.datasets.make_regression"
   ]
  },
  {
   "cell_type": "code",
   "execution_count": null,
   "metadata": {
    "collapsed": false
   },
   "outputs": [],
   "source": [
    "X, y = datasets.make_regression(n_samples=100, n_features=20, n_informative=5, bias=0.1, noise=30, random_state=1)\n",
    "print X.shape, y.shape"
   ]
  },
  {
   "cell_type": "code",
   "execution_count": null,
   "metadata": {
    "collapsed": false
   },
   "outputs": [],
   "source": [
    "model = sm.OLS(y, X)\n",
    "results = model.fit()\n",
    "print results.summary()\n",
    "print \"Confidence Intervals:\", results.conf_int()\n",
    "print \"Parameters:\", results.params"
   ]
  },
  {
   "cell_type": "markdown",
   "metadata": {},
   "source": [
    "### Analyzing CA housing dataset"
   ]
  },
  {
   "cell_type": "code",
   "execution_count": null,
   "metadata": {
    "collapsed": false,
    "scrolled": false
   },
   "outputs": [],
   "source": [
    "ca = pd.read_table(\"datasets/cal_housing.data\", sep=',')\n",
    "\n",
    "attributes = ['longitude',\n",
    "            'latitude',\n",
    "            'housingMedianAge',\n",
    "            'totalRooms',\n",
    "            'totalBedrooms',\n",
    "            'population',\n",
    "            'households',\n",
    "            'medianIncome',\n",
    "            'medianHouseValue']\n",
    "\n",
    "ca.columns = attributes\n",
    "\n",
    "print ca.info()"
   ]
  },
  {
   "cell_type": "code",
   "execution_count": null,
   "metadata": {
    "collapsed": false
   },
   "outputs": [],
   "source": [
    "print type(ca)\n",
    "X = ca[['longitude','latitude','housingMedianAge','totalRooms','totalBedrooms','population','households','medianIncome']]\n",
    "print X.shape\n",
    "print ca.keys()\n",
    "print ca.medianHouseValue\n",
    "y = ca.medianHouseValue;\n",
    "print y.shape\n",
    "plt.scatter(range(len(y)), y, c=\"slategray\", alpha=0.3, linewidths=0.2)\n",
    "#print ca.head(100)"
   ]
  },
  {
   "cell_type": "code",
   "execution_count": null,
   "metadata": {
    "collapsed": false
   },
   "outputs": [],
   "source": [
    "X, y = utils.shuffle(X, y, random_state=1)"
   ]
  },
  {
   "cell_type": "markdown",
   "metadata": {},
   "source": [
    "Split the data into training and testing"
   ]
  },
  {
   "cell_type": "code",
   "execution_count": null,
   "metadata": {
    "collapsed": false
   },
   "outputs": [],
   "source": [
    "X_train, X_test, y_train, y_test = cross_validation.train_test_split(X, y, test_size=0.4, random_state=0)\n",
    "print(X_train.shape), y_train.shape\n",
    "print(X_test.shape), y_test.shape"
   ]
  },
  {
   "cell_type": "code",
   "execution_count": null,
   "metadata": {
    "collapsed": false
   },
   "outputs": [],
   "source": [
    "print X_train[X_train.columns[0]]\n",
    "subX_train = X_train[X_train.columns[0]]\n",
    "subX_test = X_test[X_test.columns[0]]\n",
    "plt.scatter(subX_train, y_train, c=\"slategray\", alpha=0.4, linewidths=0.3)\n",
    "# plt.scatter(subX_test, y_test, c=\"seagreen\", alpha=0.2, linewidths=0.3)\n",
    "plt.xlabel('Data')\n",
    "plt.ylabel('Target');\n"
   ]
  },
  {
   "cell_type": "code",
   "execution_count": null,
   "metadata": {
    "collapsed": false
   },
   "outputs": [],
   "source": [
    "fig, axes = plt.subplots(2,4,figsize=(15,10))\n",
    "\n",
    "for i in range(8):\n",
    "    plt_i = i // 4\n",
    "    plt_j = i % 4\n",
    "    subX_train = X_train[X_train.columns[i]]\n",
    "    # plt.subplot(2, 4, 1 + i)\n",
    "    axes[plt_i][plt_j].scatter(subX_train, y_train, c=\"slategray\", alpha=0.4, linewidths=0.3)\n",
    "    #plt.scatter(subX_test, y_test)\n",
    "    axes[plt_i][plt_j].set_xlabel('Data')\n",
    "    axes[plt_i][plt_j].set_ylabel('Target'); "
   ]
  },
  {
   "cell_type": "markdown",
   "metadata": {},
   "source": [
    "http://scikit-learn.org/stable/modules/generated/sklearn.linear_model.LinearRegression.html"
   ]
  },
  {
   "cell_type": "code",
   "execution_count": null,
   "metadata": {
    "collapsed": false
   },
   "outputs": [],
   "source": [
    "regr = linear_model.LinearRegression()"
   ]
  },
  {
   "cell_type": "markdown",
   "metadata": {},
   "source": [
    "Fit the model"
   ]
  },
  {
   "cell_type": "code",
   "execution_count": null,
   "metadata": {
    "collapsed": false
   },
   "outputs": [],
   "source": [
    "print X_train.shape\n",
    "regr.fit(X_train, y_train);"
   ]
  },
  {
   "cell_type": "markdown",
   "metadata": {},
   "source": [
    "The coefficients and the bias are now computed"
   ]
  },
  {
   "cell_type": "code",
   "execution_count": null,
   "metadata": {
    "collapsed": false
   },
   "outputs": [],
   "source": [
    "# The mean square error\n",
    "print(\"Training error: \", metrics.mean_squared_error(regr.predict(X_train),y_train))\n",
    "print(\"Test     error: \", metrics.mean_squared_error(regr.predict(X_test),y_test))"
   ]
  },
  {
   "cell_type": "markdown",
   "metadata": {},
   "source": [
    "##### The score( ) function of python's LinearRegression"
   ]
  },
  {
   "cell_type": "markdown",
   "metadata": {},
   "source": [
    "Returns the coefficient of determination R^2 of the prediction.\n",
    "\n",
    "The coefficient $R^2$ is defined as $(1 - u/v)$, where u is the regression sum of squares ((y_true - y_pred)^2).sum( ) and v is the residual sum of squares ((y_true - y_true.mean( ))^2).sum( ). Best possible score is 1.0, lower values are worse."
   ]
  },
  {
   "cell_type": "code",
   "execution_count": null,
   "metadata": {
    "collapsed": false
   },
   "outputs": [],
   "source": [
    "train_score = regr.score(X_train,y_train)\n",
    "test_score = regr.score(X_test,y_test)\n",
    "print(\"Training score: \", train_score)\n",
    "print(\"Test     score: \", test_score)"
   ]
  },
  {
   "cell_type": "code",
   "execution_count": null,
   "metadata": {
    "collapsed": false
   },
   "outputs": [],
   "source": [
    "coefficients = regr.coef_\n",
    "for i in range(len(coefficients)):\n",
    "    print ca.columns[i],\"\\t\",coefficients[i]"
   ]
  },
  {
   "cell_type": "code",
   "execution_count": null,
   "metadata": {
    "collapsed": false
   },
   "outputs": [],
   "source": [
    "print pd.DataFrame(zip(ca.columns, np.transpose(coefficients)))"
   ]
  },
  {
   "cell_type": "code",
   "execution_count": null,
   "metadata": {
    "collapsed": false
   },
   "outputs": [],
   "source": [
    "regr = linear_model.LinearRegression()\n",
    "scores = cross_validation.cross_val_score(regr, X, y, cv=5)\n",
    "print scores"
   ]
  },
  {
   "cell_type": "code",
   "execution_count": null,
   "metadata": {
    "collapsed": false
   },
   "outputs": [],
   "source": [
    "print(\"Regression score: %0.2f (+/- %0.2f)\" % (scores.mean(), scores.std() * 2))"
   ]
  },
  {
   "cell_type": "markdown",
   "metadata": {},
   "source": [
    "##### Visualizing the results of linear regression"
   ]
  },
  {
   "cell_type": "code",
   "execution_count": null,
   "metadata": {
    "collapsed": false
   },
   "outputs": [],
   "source": [
    "subX_train = X_train[X_train.columns[0]]\n",
    "subX_test = X_test[X_test.columns[0]]\n",
    "plt.scatter(subX_train, y_train, c=\"slategray\", alpha=0.4, linewidths=0.3)\n",
    "plt.plot(subX_train, coefficients[0]*subX_train, color='seagreen', linewidth=3, alpha=.8);\n",
    "plt.xlabel('Data')\n",
    "plt.ylabel('Target');"
   ]
  },
  {
   "cell_type": "markdown",
   "metadata": {},
   "source": [
    "### Food for thought: Analyzing Boston housing dataset"
   ]
  },
  {
   "cell_type": "code",
   "execution_count": null,
   "metadata": {
    "collapsed": false
   },
   "outputs": [],
   "source": [
    "boston = datasets.load_boston()"
   ]
  },
  {
   "cell_type": "code",
   "execution_count": null,
   "metadata": {
    "collapsed": false
   },
   "outputs": [],
   "source": [
    "print boston.data.shape\n",
    "print type(boston.data)\n",
    "X = boston.data\n",
    "print X.shape\n",
    "print boston.feature_names\n",
    "print boston.target\n",
    "y = boston.target;\n",
    "print y.shape\n",
    "plt.scatter(range(len(y)), y, c=\"slategray\", alpha=0.4, linewidths=0.3)\n"
   ]
  },
  {
   "cell_type": "code",
   "execution_count": null,
   "metadata": {
    "collapsed": false
   },
   "outputs": [],
   "source": [
    "X, y = utils.shuffle(X, y, random_state=1)\n",
    "X_train, X_test, y_train, y_test = cross_validation.train_test_split(X, y, test_size=0.4, random_state=0)\n",
    "print(X_train.shape), y_train.shape\n",
    "print(X_test.shape), y_test.shape"
   ]
  },
  {
   "cell_type": "code",
   "execution_count": null,
   "metadata": {
    "collapsed": false
   },
   "outputs": [],
   "source": [
    "regr = linear_model.LinearRegression()\n",
    "print X_train.shape\n",
    "regr.fit(X_train, y_train);\n",
    "# The mean square error\n",
    "print(\"Training error: \", np.mean((regr.predict(X_train) - y_train) ** 2))\n",
    "print(\"Test     error: \", np.mean((regr.predict(X_test) - y_test) ** 2))"
   ]
  },
  {
   "cell_type": "code",
   "execution_count": null,
   "metadata": {
    "collapsed": false
   },
   "outputs": [],
   "source": [
    "train_score = regr.score(X_train,y_train)\n",
    "test_score = regr.score(X_test,y_test)\n",
    "print(\"Training score: \", train_score)\n",
    "print(\"Test     score: \", test_score)"
   ]
  },
  {
   "cell_type": "code",
   "execution_count": null,
   "metadata": {
    "collapsed": false
   },
   "outputs": [],
   "source": [
    "coefficients = regr.coef_\n",
    "for i in range(len(coefficients)):\n",
    "    print boston.feature_names[i],\"\\t\",coefficients[i]"
   ]
  },
  {
   "cell_type": "code",
   "execution_count": null,
   "metadata": {
    "collapsed": false
   },
   "outputs": [],
   "source": [
    "# Code for setting the style of the notebook\n",
    "from IPython.core.display import HTML\n",
    "def css_styling():\n",
    "    styles = open(\"../theme/custom.css\", \"r\").read()\n",
    "    return HTML(styles)\n",
    "css_styling()"
   ]
  },
  {
   "cell_type": "code",
   "execution_count": null,
   "metadata": {
    "collapsed": true
   },
   "outputs": [],
   "source": []
  }
 ],
 "metadata": {
  "kernelspec": {
   "display_name": "Python 2",
   "language": "python",
   "name": "python2"
  },
  "language_info": {
   "codemirror_mode": {
    "name": "ipython",
    "version": 2
   },
   "file_extension": ".py",
   "mimetype": "text/x-python",
   "name": "python",
   "nbconvert_exporter": "python",
   "pygments_lexer": "ipython2",
   "version": "2.7.10"
  }
 },
 "nbformat": 4,
 "nbformat_minor": 0
}
